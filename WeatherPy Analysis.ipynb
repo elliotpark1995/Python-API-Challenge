{
 "cells": [
  {
   "cell_type": "markdown",
   "metadata": {},
   "source": [
    "## API Analysis\n",
    "\n",
    "The data extracted from the OpenWeather database supports the universal and scientific truth of zero degrees latitude and weather. As shown in one of the analyses (output 1), we can see that the weather gradually becomes warmer as it approaches toward the zero degree latitude (the equator). And interestingly enough, some of the most aridity and dry cities were recorded closer to the equtor (output 2). The analysis from output 3 and 4 shows that there is no strong relationship between city latitude and cloudiness as well as city latitude and wind speed, albeit we notice some cities with over 20mph of wind across all latitude.\n"
   ]
  },
  {
   "cell_type": "code",
   "execution_count": null,
   "metadata": {},
   "outputs": [],
   "source": []
  }
 ],
 "metadata": {
  "kernelspec": {
   "display_name": "Python 3",
   "language": "python",
   "name": "python3"
  },
  "language_info": {
   "codemirror_mode": {
    "name": "ipython",
    "version": 3
   },
   "file_extension": ".py",
   "mimetype": "text/x-python",
   "name": "python",
   "nbconvert_exporter": "python",
   "pygments_lexer": "ipython3",
   "version": "3.7.3"
  }
 },
 "nbformat": 4,
 "nbformat_minor": 2
}
